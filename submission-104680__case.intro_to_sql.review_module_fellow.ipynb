{
 "cells": [
  {
   "cell_type": "markdown",
   "metadata": {
    "deletable": false,
    "editable": false,
    "nbgrader": {
     "cell_type": "markdown",
     "checksum": "8975b2e5dbf4cf7f99f6f49aead1a7fa",
     "grade": false,
     "grade_id": "cell-3382eccab4f96f1b",
     "locked": true,
     "schema_version": 3,
     "solution": false,
     "task": false
    }
   },
   "source": [
    "# Review module"
   ]
  },
  {
   "cell_type": "markdown",
   "metadata": {
    "deletable": false,
    "editable": false,
    "nbgrader": {
     "cell_type": "markdown",
     "checksum": "3315028a47179bf5813f22883267c47c",
     "grade": false,
     "grade_id": "cell-32a2a3d5089fbc41",
     "locked": true,
     "schema_version": 3,
     "solution": false,
     "task": false
    }
   },
   "source": [
    "**Instructions**\n",
    "\n",
    "In order to complete this review module, we recommend you follow these instructions:\n",
    "\n",
    "1. Complete the functions provided to you in this notebook, but do **not** change the name of the function or the name(s) of the argument(s). If you do that, the autograder will fail and you will not receive any points.\n",
    "2. Run all the function-definition cells before you run the testing cells. The functions must exist before they are graded!\n",
    "3. Read the function docstrings carefully. They contain additional information about how the code should look (a [docstring](https://www.datacamp.com/community/tutorials/docstrings-python) is the stuff that comes between the triple quotes).\n",
    "4. Some functions may require several outputs (the docstrings tell you which ones). Make sure they are returned in the right order.\n",
    "5. Remove from each function the code `raise NotImplementedError()` and replace it with your implementation."
   ]
  },
  {
   "cell_type": "markdown",
   "metadata": {
    "deletable": false,
    "editable": false,
    "nbgrader": {
     "cell_type": "markdown",
     "checksum": "52fd24493512209102196af36373a225",
     "grade": false,
     "grade_id": "cell-f08959077e8ac3af",
     "locked": true,
     "schema_version": 3,
     "solution": false,
     "task": false
    }
   },
   "source": [
    "For this review module, we will be using the same database we introduced in the main lecture. This database consists of three tables: `agent` (a list of the call center agents), `customer` (a list of the customers and their demographic data), and `call` (all the calls that the agents made and whether they resulted in a purchase or not).\n",
    "\n",
    "Run the cells below to load the SQLite database and see the names of the columns of each table:"
   ]
  },
  {
   "cell_type": "code",
   "execution_count": 1,
   "metadata": {
    "deletable": false,
    "editable": false,
    "nbgrader": {
     "cell_type": "code",
     "checksum": "36b94ef1ca12ec2aff3c4e97605b74d7",
     "grade": false,
     "grade_id": "cell-96a825feec3e4bfa",
     "locked": true,
     "schema_version": 3,
     "solution": false,
     "task": false
    }
   },
   "outputs": [],
   "source": [
    "%%capture\n",
    "!pip install ipython-sql sqlalchemy pandas\n",
    "import sqlalchemy\n",
    "sqlalchemy.create_engine(\"sqlite:///call_center_database.db\")\n",
    "%load_ext sql\n",
    "%sql sqlite:///call_center_database.db"
   ]
  },
  {
   "cell_type": "code",
   "execution_count": 2,
   "metadata": {},
   "outputs": [
    {
     "name": "stdout",
     "output_type": "stream",
     "text": [
      " * sqlite:///call_center_database.db\n",
      "Done.\n"
     ]
    },
    {
     "data": {
      "text/html": [
       "<table>\n",
       "    <tr>\n",
       "        <th>AgentID</th>\n",
       "        <th>Name</th>\n",
       "    </tr>\n",
       "</table>"
      ],
      "text/plain": [
       "[]"
      ]
     },
     "execution_count": 2,
     "metadata": {},
     "output_type": "execute_result"
    }
   ],
   "source": [
    "%%sql\n",
    "select * from agent limit 0"
   ]
  },
  {
   "cell_type": "code",
   "execution_count": 3,
   "metadata": {},
   "outputs": [
    {
     "name": "stdout",
     "output_type": "stream",
     "text": [
      " * sqlite:///call_center_database.db\n",
      "Done.\n"
     ]
    },
    {
     "data": {
      "text/html": [
       "<table>\n",
       "    <tr>\n",
       "        <th>CustomerID</th>\n",
       "        <th>Name</th>\n",
       "        <th>Occupation</th>\n",
       "        <th>Email</th>\n",
       "        <th>Company</th>\n",
       "        <th>PhoneNumber</th>\n",
       "        <th>Age</th>\n",
       "    </tr>\n",
       "</table>"
      ],
      "text/plain": [
       "[]"
      ]
     },
     "execution_count": 3,
     "metadata": {},
     "output_type": "execute_result"
    }
   ],
   "source": [
    "%%sql\n",
    "select * from customer limit 0"
   ]
  },
  {
   "cell_type": "code",
   "execution_count": 4,
   "metadata": {},
   "outputs": [
    {
     "name": "stdout",
     "output_type": "stream",
     "text": [
      " * sqlite:///call_center_database.db\n",
      "Done.\n"
     ]
    },
    {
     "data": {
      "text/html": [
       "<table>\n",
       "    <tr>\n",
       "        <th>CallID</th>\n",
       "        <th>AgentID</th>\n",
       "        <th>CustomerID</th>\n",
       "        <th>PickedUp</th>\n",
       "        <th>Duration</th>\n",
       "        <th>ProductSold</th>\n",
       "    </tr>\n",
       "</table>"
      ],
      "text/plain": [
       "[]"
      ]
     },
     "execution_count": 4,
     "metadata": {},
     "output_type": "execute_result"
    }
   ],
   "source": [
    "%%sql\n",
    "select * from call limit 0"
   ]
  },
  {
   "cell_type": "markdown",
   "metadata": {
    "deletable": false,
    "editable": false,
    "nbgrader": {
     "cell_type": "markdown",
     "checksum": "a48eb2026e79c478d0aca13a23034d29",
     "grade": false,
     "grade_id": "cell-00133bbacde63413",
     "locked": true,
     "schema_version": 3,
     "solution": false,
     "task": false
    },
    "tags": [
     "5_min"
    ]
   },
   "source": [
    "### Exercise 1\n",
    "\n",
    "Calculate the average age across all customers. The result of your query should have only one column (called `average_age`) and one row (the actual average numeric age)."
   ]
  },
  {
   "cell_type": "code",
   "execution_count": 33,
   "metadata": {
    "deletable": false,
    "nbgrader": {
     "cell_type": "code",
     "checksum": "c3aefcc1c2ec45f72d7b92dbc5c1e21e",
     "grade": false,
     "grade_id": "cell-026e6c3bc0f1decd",
     "locked": false,
     "schema_version": 3,
     "solution": true,
     "task": false
    }
   },
   "outputs": [],
   "source": [
    "def age_customers():\n",
    "    \"\"\"\n",
    "    Calculate the mean age of customers.\n",
    "    \n",
    "    Arguments: None\n",
    "    \n",
    "    Output:\n",
    "    query: The SQL query. A string (please refer to the example below)\n",
    "    \n",
    "    Example:\n",
    "    In this function, you only need to write the query inside quotes.\n",
    "    For instance, if you wanted to see the first 5 rows of the `call` table, this\n",
    "    should be your code:\n",
    "    \n",
    "    query = \"SELECT * FROM call LIMIT 5\"\n",
    "    \n",
    "    If you need to write your query in more than one line (ie. with line breaks),\n",
    "    you can use triple quotes: https://www.tutorialspoint.com/triple-quotes-in-python\n",
    "    \n",
    "    \"\"\"\n",
    "    \n",
    "    # YOUR CODE HERE\n",
    "    \n",
    "    \n",
    "    query = \"Select AVG(age) as average_age from customer\"\n",
    "    \n",
    "    return query "
   ]
  },
  {
   "cell_type": "markdown",
   "metadata": {
    "deletable": false,
    "editable": false,
    "nbgrader": {
     "cell_type": "markdown",
     "checksum": "aa7590629ea0ac2f88dd5aa409da9db5",
     "grade": false,
     "grade_id": "cell-dc3079b3b0903d19",
     "locked": true,
     "schema_version": 3,
     "solution": false,
     "task": false
    },
    "tags": [
     "10_min"
    ]
   },
   "source": [
    "### Exercise 2\n",
    "\n",
    "Calculate the average age of customers who actually made a purchase as a result of a call. The result of your query should have only one column (called `average_age_purchased`) and one row (the actual average numeric age).\n",
    "\n",
    "**Hint:** Join the `customer` and `call` tables, keep only the calls that resulted in a sale, and then compute the average age. It is true that a single customer may appear several times in the result (which would mean they were contacted more than once and made a purchase more than once). Ignore this and simply average the ages across all sales."
   ]
  },
  {
   "cell_type": "code",
   "execution_count": 44,
   "metadata": {
    "deletable": false,
    "nbgrader": {
     "cell_type": "code",
     "checksum": "c2991346a88041e971eae3c9a64412f3",
     "grade": false,
     "grade_id": "cell-ba8e8490f72820e1",
     "locked": false,
     "schema_version": 3,
     "solution": true,
     "task": false
    }
   },
   "outputs": [],
   "source": [
    "def age_customers_purchased():\n",
    "    \"\"\"\n",
    "    Calculate the mean age of customers who made purchases.\n",
    "    \n",
    "    Arguments: None\n",
    "    \n",
    "    Output:\n",
    "    query: The SQL query. A string (please refer to the example below)\n",
    "    \n",
    "    Example:\n",
    "    In this function, you only need to write the query inside quotes.\n",
    "    For instance, if you wanted to see the first 5 rows of the `call` table, this\n",
    "    should be your code:\n",
    "    \n",
    "    query = \"SELECT * FROM call LIMIT 5\"\n",
    "    \n",
    "    If you need to write your query in more than one line (ie. with line breaks),\n",
    "    you can use triple quotes: https://www.tutorialspoint.com/triple-quotes-in-python\n",
    "    \n",
    "    \"\"\"\n",
    "    \n",
    "    # YOUR CODE HERE\n",
    "    query = \"Select AVG(age) average_age_purchased from customer JOIN call on customer.customerid = call.customerid where productsold > 0\"\n",
    "    \n",
    "    return query"
   ]
  },
  {
   "cell_type": "markdown",
   "metadata": {
    "deletable": false,
    "editable": false,
    "nbgrader": {
     "cell_type": "markdown",
     "checksum": "8161fd86460b27a1d4261d1e46748b69",
     "grade": false,
     "grade_id": "cell-de85ccbf3884c95a",
     "locked": true,
     "schema_version": 3,
     "solution": false,
     "task": false
    },
    "tags": [
     "10_min"
    ]
   },
   "source": [
    "### Exercise 3\n",
    "\n",
    "Determine the 6 companies which are most highly represented among the customers. Your result should have two columns (`Company` and `number_customers`) and one row.\n",
    "\n",
    "**Hint:** Count the number of customers who have links to each company (group by company), sort the result in descending order, and finally retrieve only the first 6 rows."
   ]
  },
  {
   "cell_type": "code",
   "execution_count": 75,
   "metadata": {
    "deletable": false,
    "nbgrader": {
     "cell_type": "code",
     "checksum": "06455a674b4bc9e825d8958cea4fd584",
     "grade": false,
     "grade_id": "cell-0436ea8f08193ac3",
     "locked": false,
     "schema_version": 3,
     "solution": true,
     "task": false
    }
   },
   "outputs": [],
   "source": [
    "def most_frequent_companies():\n",
    "    \"\"\"\n",
    "    Find which 6 companies are the most frequent among customers.\n",
    "    \n",
    "    Arguments: None\n",
    "    \n",
    "    Output:\n",
    "    query: The SQL query. A string (please refer to the example below)\n",
    "    \n",
    "    Example:\n",
    "    In this function, you only need to write the query inside quotes.\n",
    "    For instance, if you wanted to see the first 5 rows of the `call` table, this\n",
    "    should be your code:\n",
    "    \n",
    "    query = \"SELECT * FROM call LIMIT 5\"\n",
    "    \n",
    "    If you need to write your query in more than one line (ie. with line breaks),\n",
    "    you can use triple quotes: https://www.tutorialspoint.com/triple-quotes-in-python\n",
    "    \n",
    "    \"\"\"\n",
    "    \n",
    "    # YOUR CODE HERE\n",
    "    query = \"\"\"select company, count(customerid) as number_customers\n",
    "from customer\n",
    "group by company\n",
    "order by number_customers DESC\n",
    "limit 6\"\"\"\n",
    "    \n",
    "    return query"
   ]
  },
  {
   "cell_type": "markdown",
   "metadata": {
    "deletable": false,
    "editable": false,
    "nbgrader": {
     "cell_type": "markdown",
     "checksum": "32f04daa36ac5544c7f7510c171986a1",
     "grade": false,
     "grade_id": "cell-ffea65ed46156549",
     "locked": true,
     "schema_version": 3,
     "solution": false,
     "task": false
    },
    "tags": [
     "8_min"
    ]
   },
   "source": [
    "### Exercise 4\n",
    "\n",
    "Retrieve all the customers that have Gmail email accounts. Your result must have one column (`Email`) and 79 rows (the 79 customers who have Gmail accounts)."
   ]
  },
  {
   "cell_type": "code",
   "execution_count": 106,
   "metadata": {
    "deletable": false,
    "nbgrader": {
     "cell_type": "code",
     "checksum": "dac557e62d292c4812c37961e54ab0bc",
     "grade": false,
     "grade_id": "cell-bfb5d155c3cd0ab3",
     "locked": false,
     "schema_version": 3,
     "solution": true,
     "task": false
    }
   },
   "outputs": [],
   "source": [
    "def gmail_accounts():\n",
    "    \"\"\"\n",
    "    Retrieve all the customers who have Gmail accounts.\n",
    "    \n",
    "    Arguments: None\n",
    "    \n",
    "    Output:\n",
    "    query: The SQL query. A string (please refer to the example below)\n",
    "    \n",
    "    Example:\n",
    "    In this function, you only need to write the query inside quotes.\n",
    "    For instance, if you wanted to see the first 5 rows of the `call` table, this\n",
    "    should be your code:\n",
    "    \n",
    "    query = \"SELECT * FROM call LIMIT 5\"\n",
    "    \n",
    "    If you need to write your query in more than one line (ie. with line breaks),\n",
    "    you can use triple quotes: https://www.tutorialspoint.com/triple-quotes-in-python\n",
    "    \n",
    "    \"\"\"\n",
    "    \n",
    "    # YOUR CODE HERE\n",
    "    query = \"\"\" select email as Email\n",
    "    from customer \n",
    "    where email like '%gmail%' \"\"\"\n",
    "    \n",
    "    return query"
   ]
  },
  {
   "cell_type": "markdown",
   "metadata": {
    "deletable": false,
    "editable": false,
    "nbgrader": {
     "cell_type": "markdown",
     "checksum": "d962da07412df94354d3712c03089436",
     "grade": false,
     "grade_id": "cell-cd1bd37ff2b84bc2",
     "locked": true,
     "schema_version": 3,
     "solution": false,
     "task": false
    }
   },
   "source": [
    "## Testing Cells\n",
    "\n",
    "Run the below cells to check your answers. Make sure you run your solution cells first before running the cells below, otherwise you will get a `NameError` when checking your answers."
   ]
  },
  {
   "cell_type": "code",
   "execution_count": 34,
   "metadata": {
    "deletable": false,
    "editable": false,
    "nbgrader": {
     "cell_type": "code",
     "checksum": "e44416a7cad2ffdc10537e4afbc21704",
     "grade": true,
     "grade_id": "cell-b84426fd8d40e4d9",
     "locked": true,
     "points": 1,
     "schema_version": 3,
     "solution": false,
     "task": false
    }
   },
   "outputs": [
    {
     "name": "stdout",
     "output_type": "stream",
     "text": [
      "Exercise 1 seems correct!\n"
     ]
    }
   ],
   "source": [
    "# Ex 1\n",
    "import pandas as pd\n",
    "ava = pd.read_sql(age_customers(), con=\"sqlite:///call_center_database.db\")\n",
    "assert ava.columns == [\"average_age\"], \"Ex. 1 - Your result should only have one column, and it should be named 'average_age'!\"\n",
    "assert len(ava) == 1, \"Ex. 1 - Your result should have only one row!\"\n",
    "assert round(ava[\"average_age\"][0],3) == round(24.435, 3), \"Ex. 1 - Please check the aggregation function you used. Did you calculate the average age of all customers?\"\n",
    "print(\"Exercise 1 seems correct!\")"
   ]
  },
  {
   "cell_type": "code",
   "execution_count": 45,
   "metadata": {
    "deletable": false,
    "editable": false,
    "nbgrader": {
     "cell_type": "code",
     "checksum": "b8e9b7ee04362164c5ce1f21f24337df",
     "grade": true,
     "grade_id": "cell-e1facf20efd6838d",
     "locked": true,
     "points": 1,
     "schema_version": 3,
     "solution": false,
     "task": false
    }
   },
   "outputs": [
    {
     "name": "stdout",
     "output_type": "stream",
     "text": [
      "Exercise 2 seems correct!\n"
     ]
    }
   ],
   "source": [
    "# Ex 2\n",
    "import pandas as pd\n",
    "avap = pd.read_sql(age_customers_purchased(), con=\"sqlite:///call_center_database.db\")\n",
    "assert avap.columns == [\"average_age_purchased\"], \"Ex. 2 - Your result should only have one column, and it should be named 'average_age_purchased'!\"\n",
    "assert len(avap) == 1, \"Ex. 2 - Your result should have only one row!\"\n",
    "assert round(avap[\"average_age_purchased\"][0],3) == round(24.708253358925145, 3), \"Ex. 2 - Please check the aggregation function you used. Did you calculate the average age of all customers who made a purchase?\"\n",
    "print(\"Exercise 2 seems correct!\")"
   ]
  },
  {
   "cell_type": "code",
   "execution_count": 76,
   "metadata": {
    "deletable": false,
    "editable": false,
    "nbgrader": {
     "cell_type": "code",
     "checksum": "d43d9b809c717b888e8ee6dbef1d7341",
     "grade": true,
     "grade_id": "cell-1d1772c4392c70bc",
     "locked": true,
     "points": 1,
     "schema_version": 3,
     "solution": false,
     "task": false
    }
   },
   "outputs": [
    {
     "name": "stdout",
     "output_type": "stream",
     "text": [
      "Exercise 3 seems correct!\n"
     ]
    }
   ],
   "source": [
    "# Ex 3\n",
    "import pandas as pd\n",
    "mcc = pd.read_sql(most_frequent_companies(), con=\"sqlite:///call_center_database.db\")\n",
    "assert set(mcc.columns) == set([\"Company\", \"number_customers\"]), \"Ex. 3 - Your result should have two columns, named 'Customer' and 'number_customers'!\"\n",
    "assert len(mcc) == 6, \"Ex. 3 - Your result should have 6 rows! Remember to group by company and limit your results to only 6 companies!\"\n",
    "assert set([\"Romero and Sons\",\"Mitchell and Sons\",\"Miller Group\",\"Kelly Inc\",\"Jones PLC\",\"Hernandez and Sons\"]) == set(mcc[\"Company\"].to_list()), \"Ex. 3 - Your result does not include all the companies in the top 6! Did you sort the results in descending order?\"\n",
    "print(\"Exercise 3 seems correct!\")"
   ]
  },
  {
   "cell_type": "code",
   "execution_count": 107,
   "metadata": {
    "deletable": false,
    "editable": false,
    "nbgrader": {
     "cell_type": "code",
     "checksum": "723b385bb145b0d5aee905f3115487af",
     "grade": true,
     "grade_id": "cell-ea82fd1a9691a0fc",
     "locked": true,
     "points": 1,
     "schema_version": 3,
     "solution": false,
     "task": false
    }
   },
   "outputs": [
    {
     "name": "stdout",
     "output_type": "stream",
     "text": [
      "Exercise 4 seems correct!\n"
     ]
    }
   ],
   "source": [
    "# Ex 4\n",
    "import pandas as pd\n",
    "gm = pd.read_sql(gmail_accounts(), con=\"sqlite:///call_center_database.db\")\n",
    "assert set(gm.columns) == set([\"Email\"]), \"Ex. 4 - Your result should have only one column, 'Email'!\"\n",
    "assert len(gm) == 79, \"Ex. 4 - Your result should have 79 rows! Remember to filter your results using WHERE and the LIKE operator!\"\n",
    "assert gm[\"Email\"].str.count(\"gmail\").sum() == 79, \"Ex. 4 - Your result contains some customers whose Email is not Gmail!\"\n",
    "print(\"Exercise 4 seems correct!\")"
   ]
  }
 ],
 "metadata": {
  "c1_recart": "7.42.0-57c20131aabc1dc2a8c675852d80a7da",
  "kernelspec": {
   "display_name": "Python 3",
   "language": "python",
   "name": "python3"
  },
  "language_info": {
   "codemirror_mode": {
    "name": "ipython",
    "version": 3
   },
   "file_extension": ".py",
   "mimetype": "text/x-python",
   "name": "python",
   "nbconvert_exporter": "python",
   "pygments_lexer": "ipython3",
   "version": "3.8.8"
  }
 },
 "nbformat": 4,
 "nbformat_minor": 2
}
